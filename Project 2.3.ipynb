{
 "cells": [
  {
   "cell_type": "markdown",
   "id": "a5d47353-5bd0-49f0-abaf-85f92b77378e",
   "metadata": {},
   "source": [
    "# Project 2.3"
   ]
  },
  {
   "cell_type": "code",
   "execution_count": 1,
   "id": "58ddaa03-d3a9-4d0d-bfbb-b81eee9a4721",
   "metadata": {},
   "outputs": [
    {
     "data": {
      "text/plain": [
       "dict_keys(['client-id', 'api-key', 'api-read-token'])"
      ]
     },
     "execution_count": 1,
     "metadata": {},
     "output_type": "execute_result"
    }
   ],
   "source": [
    "import json\n",
    "with open('/Users/rowenahan/.secret/tmbd_api.json') as f:\n",
    "    login = json.load(f)\n",
    "## Display the keys of the loaded dict\n",
    "login.keys()\n",
    "\n"
   ]
  },
  {
   "cell_type": "code",
   "execution_count": 2,
   "id": "b7b4f5b6-8c43-438d-82c4-ebb0c0dcc7f2",
   "metadata": {},
   "outputs": [],
   "source": [
    "#load tmdbsimple\n",
    "import tmdbsimple as tmdb\n",
    "tmdb.API_KEY = login[\"api-key\"]"
   ]
  },
  {
   "cell_type": "code",
   "execution_count": 3,
   "id": "5874e01a-50cd-42fc-9e48-62c82a092aba",
   "metadata": {},
   "outputs": [],
   "source": [
    "movie = tmdb.Movies(603)"
   ]
  },
  {
   "cell_type": "code",
   "execution_count": 4,
   "id": "aa5aaf5d-eba9-42bf-ace9-269c80f5693a",
   "metadata": {},
   "outputs": [
    {
     "data": {
      "text/plain": [
       "{'adult': False,\n",
       " 'backdrop_path': '/oMsxZEvz9a708d49b6UdZK1KAo5.jpg',\n",
       " 'belongs_to_collection': {'id': 2344,\n",
       "  'name': 'The Matrix Collection',\n",
       "  'poster_path': '/bV9qTVHTVf0gkW0j7p7M0ILD4pG.jpg',\n",
       "  'backdrop_path': '/bRm2DEgUiYciDw3myHuYFInD7la.jpg'},\n",
       " 'budget': 63000000,\n",
       " 'genres': [{'id': 28, 'name': 'Action'},\n",
       "  {'id': 878, 'name': 'Science Fiction'}],\n",
       " 'homepage': 'http://www.warnerbros.com/matrix',\n",
       " 'id': 603,\n",
       " 'imdb_id': 'tt0133093',\n",
       " 'original_language': 'en',\n",
       " 'original_title': 'The Matrix',\n",
       " 'overview': 'Set in the 22nd century, The Matrix tells the story of a computer hacker who joins a group of underground insurgents fighting the vast and powerful computers who now rule the earth.',\n",
       " 'popularity': 70.496,\n",
       " 'poster_path': '/f89U3ADr1oiB1s9GkdPOEpXUk5H.jpg',\n",
       " 'production_companies': [{'id': 79,\n",
       "   'logo_path': '/tpFpsqbleCzEE2p5EgvUq6ozfCA.png',\n",
       "   'name': 'Village Roadshow Pictures',\n",
       "   'origin_country': 'US'},\n",
       "  {'id': 372,\n",
       "   'logo_path': None,\n",
       "   'name': 'Groucho II Film Partnership',\n",
       "   'origin_country': ''},\n",
       "  {'id': 1885,\n",
       "   'logo_path': '/xlvoOZr4s1PygosrwZyolIFe5xs.png',\n",
       "   'name': 'Silver Pictures',\n",
       "   'origin_country': 'US'},\n",
       "  {'id': 174,\n",
       "   'logo_path': '/IuAlhI9eVC9Z8UQWOIDdWRKSEJ.png',\n",
       "   'name': 'Warner Bros. Pictures',\n",
       "   'origin_country': 'US'}],\n",
       " 'production_countries': [{'iso_3166_1': 'US',\n",
       "   'name': 'United States of America'}],\n",
       " 'release_date': '1999-03-30',\n",
       " 'revenue': 463517383,\n",
       " 'runtime': 136,\n",
       " 'spoken_languages': [{'english_name': 'English',\n",
       "   'iso_639_1': 'en',\n",
       "   'name': 'English'}],\n",
       " 'status': 'Released',\n",
       " 'tagline': 'Welcome to the Real World.',\n",
       " 'title': 'The Matrix',\n",
       " 'video': False,\n",
       " 'vote_average': 8.206,\n",
       " 'vote_count': 23840}"
      ]
     },
     "execution_count": 4,
     "metadata": {},
     "output_type": "execute_result"
    }
   ],
   "source": [
    "info = movie.info()\n",
    "info"
   ]
  },
  {
   "cell_type": "code",
   "execution_count": 5,
   "id": "448918fa-ef55-4045-a89d-3d1387f5e4fd",
   "metadata": {},
   "outputs": [
    {
     "data": {
      "text/plain": [
       "63000000"
      ]
     },
     "execution_count": 5,
     "metadata": {},
     "output_type": "execute_result"
    }
   ],
   "source": [
    "info['budget']"
   ]
  },
  {
   "cell_type": "code",
   "execution_count": 6,
   "id": "a29718b3-10ce-40f3-bca3-d25027681772",
   "metadata": {},
   "outputs": [
    {
     "data": {
      "text/plain": [
       "463517383"
      ]
     },
     "execution_count": 6,
     "metadata": {},
     "output_type": "execute_result"
    }
   ],
   "source": [
    "info['revenue']"
   ]
  },
  {
   "cell_type": "code",
   "execution_count": 9,
   "id": "7bb7d328-16e4-4ea3-8976-6f8cff43436f",
   "metadata": {},
   "outputs": [
    {
     "data": {
      "text/plain": [
       "'tt0133093'"
      ]
     },
     "execution_count": 9,
     "metadata": {},
     "output_type": "execute_result"
    }
   ],
   "source": [
    "info['imdb_id']"
   ]
  },
  {
   "cell_type": "code",
   "execution_count": 10,
   "id": "a344da1d-cef2-45c3-8c04-172c01d5cc6b",
   "metadata": {},
   "outputs": [
    {
     "data": {
      "text/plain": [
       "50000000"
      ]
     },
     "execution_count": 10,
     "metadata": {},
     "output_type": "execute_result"
    }
   ],
   "source": [
    "movie = tmdb.Movies('tt1361336')\n",
    "info = movie.info()\n",
    "info[\"budget\"]"
   ]
  },
  {
   "cell_type": "code",
   "execution_count": 12,
   "id": "371754f0-9ae3-44ae-bcfb-5692852ef3d8",
   "metadata": {},
   "outputs": [
    {
     "name": "stdout",
     "output_type": "stream",
     "text": [
      "PG\n",
      "PG\n",
      "PG\n"
     ]
    }
   ],
   "source": [
    "#getting certification info from 'release'\n",
    "releases = movie.releases()\n",
    "for c in releases[\"countries\"]:\n",
    "    if c[\"iso_3166_1\"]==\"US\":\n",
    "        print(c[\"certification\"])"
   ]
  },
  {
   "cell_type": "code",
   "execution_count": 16,
   "id": "f01ba359-896b-4bbc-be51-fc88f6b99cd3",
   "metadata": {},
   "outputs": [],
   "source": [
    "#ADDING THE CERTIFICATION TO THE DATA\n",
    "#Get the movie object for the current id\n",
    "movie = tmdb.Movies('tt1361336')\n",
    "#save the .info releases dictionaries\n",
    "info = movie.info()\n",
    "releases = movie.releases()\n",
    "#Loop through countries in releases\n",
    "for c in releases[\"countries\"]:\n",
    "    #if the country abbreviation==US\n",
    "    if c[\"iso_3166_1\"]=='US':\n",
    "        #Save a \"certification\" key in the info dict with the certification\n",
    "        info[\"certification\"]=c[\"certification\"]"
   ]
  },
  {
   "cell_type": "code",
   "execution_count": 17,
   "id": "1646ea65-7497-42e9-9d36-25cca0b501a1",
   "metadata": {},
   "outputs": [
    {
     "data": {
      "text/plain": [
       "{'adult': False,\n",
       " 'backdrop_path': '/9ns9463dwOeo1CK1JU2wirL5Yi1.jpg',\n",
       " 'belongs_to_collection': None,\n",
       " 'budget': 50000000,\n",
       " 'genres': [{'id': 35, 'name': 'Comedy'},\n",
       "  {'id': 10751, 'name': 'Family'},\n",
       "  {'id': 16, 'name': 'Animation'}],\n",
       " 'homepage': 'https://www.tomandjerrymovie.com',\n",
       " 'id': 587807,\n",
       " 'imdb_id': 'tt1361336',\n",
       " 'original_language': 'en',\n",
       " 'original_title': 'Tom & Jerry',\n",
       " 'overview': 'Tom the cat and Jerry the mouse get kicked out of their home and relocate to a fancy New York hotel, where a scrappy employee named Kayla will lose her job if she can’t evict Jerry before a high-class wedding at the hotel. Her solution? Hiring Tom to get rid of the pesky mouse.',\n",
       " 'popularity': 39.077,\n",
       " 'poster_path': '/8XZI9QZ7Pm3fVkigWJPbrXCMzjq.jpg',\n",
       " 'production_companies': [{'id': 25120,\n",
       "   'logo_path': '/lMj6nMJBOzfLEd2fu8uF530AJcv.png',\n",
       "   'name': 'Warner Bros. Pictures Animation',\n",
       "   'origin_country': 'US'},\n",
       "  {'id': 8922,\n",
       "   'logo_path': '/yZWehAyjfKi4KvKeg1bkJ1bm5H8.png',\n",
       "   'name': 'Turner Entertainment',\n",
       "   'origin_country': 'US'},\n",
       "  {'id': 77061,\n",
       "   'logo_path': None,\n",
       "   'name': 'The Story Company',\n",
       "   'origin_country': 'US'},\n",
       "  {'id': 174,\n",
       "   'logo_path': '/IuAlhI9eVC9Z8UQWOIDdWRKSEJ.png',\n",
       "   'name': 'Warner Bros. Pictures',\n",
       "   'origin_country': 'US'}],\n",
       " 'production_countries': [{'iso_3166_1': 'US',\n",
       "   'name': 'United States of America'}],\n",
       " 'release_date': '2021-02-10',\n",
       " 'revenue': 136536687,\n",
       " 'runtime': 101,\n",
       " 'spoken_languages': [{'english_name': 'English',\n",
       "   'iso_639_1': 'en',\n",
       "   'name': 'English'}],\n",
       " 'status': 'Released',\n",
       " 'tagline': 'Best of enemies. Worst of friends.',\n",
       " 'title': 'Tom & Jerry',\n",
       " 'video': False,\n",
       " 'vote_average': 6.86,\n",
       " 'vote_count': 2290,\n",
       " 'certification': 'PG'}"
      ]
     },
     "execution_count": 17,
     "metadata": {},
     "output_type": "execute_result"
    }
   ],
   "source": [
    "info"
   ]
  },
  {
   "cell_type": "code",
   "execution_count": 20,
   "id": "51d2a13d-ffac-4896-aa79-345fdab5ff81",
   "metadata": {},
   "outputs": [],
   "source": [
    "def get_movie_with_rating(movie_id):\n",
    "    \"\"\"Adaoted from source = https://github.com/celiao/tmdbsimple\"\"\"\n",
    "    #Get the movie object for the current id\n",
    "    movie=tmdb.Movies(movie_id)\n",
    "\n",
    "    #save the .info .releases dictionaries\n",
    "    info = movie.info()\n",
    "\n",
    "    releases = movie.releases()\n",
    "    #Loop through countries in releases\n",
    "    for c in releases[\"countries\"]:\n",
    "        #if the country appreviation ==US\n",
    "        if c[\"iso_3166_1\"]=='US':\n",
    "            #save a \"certification\" key in info with the certification\n",
    "            info['certification']=c['certification']\n",
    "\n",
    "    return info"
   ]
  },
  {
   "cell_type": "code",
   "execution_count": 21,
   "id": "8a280b65-8944-4d5f-9310-d0e0d37d755a",
   "metadata": {},
   "outputs": [
    {
     "data": {
      "text/plain": [
       "{'adult': False,\n",
       " 'backdrop_path': '/9BBTo63ANSmhC4e6r62OJFuK2GL.jpg',\n",
       " 'belongs_to_collection': {'id': 86311,\n",
       "  'name': 'The Avengers Collection',\n",
       "  'poster_path': '/yFSIUVTCvgYrpalUktulvk3Gi5Y.jpg',\n",
       "  'backdrop_path': '/zuW6fOiusv4X9nnW3paHGfXcSll.jpg'},\n",
       " 'budget': 220000000,\n",
       " 'genres': [{'id': 878, 'name': 'Science Fiction'},\n",
       "  {'id': 28, 'name': 'Action'},\n",
       "  {'id': 12, 'name': 'Adventure'}],\n",
       " 'homepage': 'https://www.marvel.com/movies/the-avengers',\n",
       " 'id': 24428,\n",
       " 'imdb_id': 'tt0848228',\n",
       " 'original_language': 'en',\n",
       " 'original_title': 'The Avengers',\n",
       " 'overview': 'When an unexpected enemy emerges and threatens global safety and security, Nick Fury, director of the international peacekeeping agency known as S.H.I.E.L.D., finds himself in need of a team to pull the world back from the brink of disaster. Spanning the globe, a daring recruitment effort begins!',\n",
       " 'popularity': 83.922,\n",
       " 'poster_path': '/RYMX2wcKCBAr24UyPD7xwmjaTn.jpg',\n",
       " 'production_companies': [{'id': 420,\n",
       "   'logo_path': '/hUzeosd33nzE5MCNsZxCGEKTXaQ.png',\n",
       "   'name': 'Marvel Studios',\n",
       "   'origin_country': 'US'}],\n",
       " 'production_countries': [{'iso_3166_1': 'US',\n",
       "   'name': 'United States of America'}],\n",
       " 'release_date': '2012-04-25',\n",
       " 'revenue': 1518815515,\n",
       " 'runtime': 143,\n",
       " 'spoken_languages': [{'english_name': 'English',\n",
       "   'iso_639_1': 'en',\n",
       "   'name': 'English'},\n",
       "  {'english_name': 'Hindi', 'iso_639_1': 'hi', 'name': 'हिन्दी'},\n",
       "  {'english_name': 'Russian', 'iso_639_1': 'ru', 'name': 'Pусский'}],\n",
       " 'status': 'Released',\n",
       " 'tagline': 'Some assembly required.',\n",
       " 'title': 'The Avengers',\n",
       " 'video': False,\n",
       " 'vote_average': 7.71,\n",
       " 'vote_count': 29178,\n",
       " 'certification': 'PG-13'}"
      ]
     },
     "execution_count": 21,
     "metadata": {},
     "output_type": "execute_result"
    }
   ],
   "source": [
    "test = get_movie_with_rating(\"tt0848228\")#put your function name here\n",
    "test"
   ]
  },
  {
   "cell_type": "code",
   "execution_count": 24,
   "id": "59e8d2cb-36fa-4207-8885-649781f0c4fa",
   "metadata": {},
   "outputs": [
    {
     "data": {
      "text/plain": [
       "['title_basics_cleaned.csv.gz',\n",
       " 'title_ratings_cleaned.csv.gz',\n",
       " 'title.basics.tsv.gz',\n",
       " 'title.ratings.tsv.gz',\n",
       " 'title-akas-us-only.csv',\n",
       " 'imdb-logo-transparent.png',\n",
       " '.ipynb_checkpoints',\n",
       " 'movietables.png']"
      ]
     },
     "execution_count": 24,
     "metadata": {},
     "output_type": "execute_result"
    }
   ],
   "source": [
    "#import packages\n",
    "#MAKING FOLDERS AND LISTING\n",
    "import os, time, json\n",
    "import tmdbsimple as tmdb\n",
    "import pandas as pd\n",
    "from tqdm.notebook import tqdm_notebook\n",
    "#create the folder for saving files (if it dosen't exist)\n",
    "FOLDER = \"Data/\"\n",
    "os.makedirs(FOLDER, exist_ok=True)\n",
    "os.listdir(FOLDER)"
   ]
  },
  {
   "cell_type": "code",
   "execution_count": 48,
   "id": "4903a531-0030-447c-b9c6-946ed12ea4c6",
   "metadata": {},
   "outputs": [],
   "source": [
    "#Define list of years to get from API for outer loop\n",
    "YEARS_TO_GET=[2000,2001]"
   ]
  },
  {
   "cell_type": "code",
   "execution_count": 45,
   "id": "2b9a3596-fa5b-493d-b5d6-a5e7a7135353",
   "metadata": {},
   "outputs": [
    {
     "data": {
      "text/html": [
       "<div>\n",
       "<style scoped>\n",
       "    .dataframe tbody tr th:only-of-type {\n",
       "        vertical-align: middle;\n",
       "    }\n",
       "\n",
       "    .dataframe tbody tr th {\n",
       "        vertical-align: top;\n",
       "    }\n",
       "\n",
       "    .dataframe thead th {\n",
       "        text-align: right;\n",
       "    }\n",
       "</style>\n",
       "<table border=\"1\" class=\"dataframe\">\n",
       "  <thead>\n",
       "    <tr style=\"text-align: right;\">\n",
       "      <th></th>\n",
       "      <th>tconst</th>\n",
       "      <th>titleType</th>\n",
       "      <th>primaryTitle</th>\n",
       "      <th>originalTitle</th>\n",
       "      <th>isAdult</th>\n",
       "      <th>startYear</th>\n",
       "      <th>endYear</th>\n",
       "      <th>runtimeMinutes</th>\n",
       "      <th>genres</th>\n",
       "    </tr>\n",
       "  </thead>\n",
       "  <tbody>\n",
       "    <tr>\n",
       "      <th>0</th>\n",
       "      <td>tt0035423</td>\n",
       "      <td>movie</td>\n",
       "      <td>Kate &amp; Leopold</td>\n",
       "      <td>Kate &amp; Leopold</td>\n",
       "      <td>0</td>\n",
       "      <td>2001.0</td>\n",
       "      <td>NaN</td>\n",
       "      <td>118</td>\n",
       "      <td>Comedy,Fantasy,Romance</td>\n",
       "    </tr>\n",
       "    <tr>\n",
       "      <th>1</th>\n",
       "      <td>tt0062336</td>\n",
       "      <td>movie</td>\n",
       "      <td>The Tango of the Widower and Its Distorting Mi...</td>\n",
       "      <td>El tango del viudo y su espejo deformante</td>\n",
       "      <td>0</td>\n",
       "      <td>2020.0</td>\n",
       "      <td>NaN</td>\n",
       "      <td>70</td>\n",
       "      <td>Drama</td>\n",
       "    </tr>\n",
       "    <tr>\n",
       "      <th>2</th>\n",
       "      <td>tt0069049</td>\n",
       "      <td>movie</td>\n",
       "      <td>The Other Side of the Wind</td>\n",
       "      <td>The Other Side of the Wind</td>\n",
       "      <td>0</td>\n",
       "      <td>2018.0</td>\n",
       "      <td>NaN</td>\n",
       "      <td>122</td>\n",
       "      <td>Drama</td>\n",
       "    </tr>\n",
       "    <tr>\n",
       "      <th>3</th>\n",
       "      <td>tt0088751</td>\n",
       "      <td>movie</td>\n",
       "      <td>The Naked Monster</td>\n",
       "      <td>The Naked Monster</td>\n",
       "      <td>0</td>\n",
       "      <td>2005.0</td>\n",
       "      <td>NaN</td>\n",
       "      <td>100</td>\n",
       "      <td>Comedy,Horror,Sci-Fi</td>\n",
       "    </tr>\n",
       "    <tr>\n",
       "      <th>4</th>\n",
       "      <td>tt0096056</td>\n",
       "      <td>movie</td>\n",
       "      <td>Crime and Punishment</td>\n",
       "      <td>Crime and Punishment</td>\n",
       "      <td>0</td>\n",
       "      <td>2002.0</td>\n",
       "      <td>NaN</td>\n",
       "      <td>126</td>\n",
       "      <td>Drama</td>\n",
       "    </tr>\n",
       "  </tbody>\n",
       "</table>\n",
       "</div>"
      ],
      "text/plain": [
       "      tconst titleType                                       primaryTitle  \\\n",
       "0  tt0035423     movie                                     Kate & Leopold   \n",
       "1  tt0062336     movie  The Tango of the Widower and Its Distorting Mi...   \n",
       "2  tt0069049     movie                         The Other Side of the Wind   \n",
       "3  tt0088751     movie                                  The Naked Monster   \n",
       "4  tt0096056     movie                               Crime and Punishment   \n",
       "\n",
       "                               originalTitle  isAdult  startYear  endYear  \\\n",
       "0                             Kate & Leopold        0     2001.0      NaN   \n",
       "1  El tango del viudo y su espejo deformante        0     2020.0      NaN   \n",
       "2                 The Other Side of the Wind        0     2018.0      NaN   \n",
       "3                          The Naked Monster        0     2005.0      NaN   \n",
       "4                       Crime and Punishment        0     2002.0      NaN   \n",
       "\n",
       "   runtimeMinutes                  genres  \n",
       "0             118  Comedy,Fantasy,Romance  \n",
       "1              70                   Drama  \n",
       "2             122                   Drama  \n",
       "3             100    Comedy,Horror,Sci-Fi  \n",
       "4             126                   Drama  "
      ]
     },
     "execution_count": 45,
     "metadata": {},
     "output_type": "execute_result"
    }
   ],
   "source": [
    "#load data(basic.csv)\n",
    "basics=pd.read_csv('Data/title_basics_cleaned.csv.gz')\n",
    "basics.head()"
   ]
  },
  {
   "cell_type": "code",
   "execution_count": 46,
   "id": "4ed803e2-dc41-457a-a5ac-f76bcd615a30",
   "metadata": {},
   "outputs": [],
   "source": [
    "def write_json(new_data, filename):\n",
    "    \"\"\"Appends a list of records (new_data) to a json file (filename). Adapted from: \n",
    "    https://www.geeksforgeeks.org/append-to-json-file-using-python/\"\"\"\n",
    "\n",
    "    with open(filename,'r+') as file:\n",
    "        #first we load existing data into a dict.\n",
    "        file_data=json.load(file)\n",
    "        #choose extend or append\n",
    "        if (type(new_data)==list) & (type(file_data)==list):\n",
    "            file_data.extend(new_data)\n",
    "        else:\n",
    "            file_data.append(new_data)\n",
    "        #set file's current position at offset\n",
    "        file.seek(0)\n",
    "        #convert back to json\n",
    "        json.dump(file_data,file)"
   ]
  },
  {
   "cell_type": "code",
   "execution_count": 50,
   "id": "7f0457f8-5e00-4018-9f59-04df96812fbc",
   "metadata": {},
   "outputs": [
    {
     "data": {
      "application/vnd.jupyter.widget-view+json": {
       "model_id": "a2a68bb2495f44569980598ac1f9a75c",
       "version_major": 2,
       "version_minor": 0
      },
      "text/plain": [
       "YEARS:   0%|          | 0/2 [00:00<?, ?it/s]"
      ]
     },
     "metadata": {},
     "output_type": "display_data"
    }
   ],
   "source": [
    "errors = []\n",
    "\n",
    "#Start the OUTER loop\n",
    "for YEAR in tqdm_notebook(YEARS_TO_GET, desc=\"YEARS\", position=0):\n",
    "\n",
    "    #Defining the JSON file to store results for year\n",
    "    JSON_FILE=F'{FOLDER}tmdb_api_results_{YEAR}.json'\n",
    "    #Check if file exists\n",
    "    file_exists = os.path.isfile(JSON_FILE)\n",
    "\n",
    "    #if it does not exist: create it\n",
    "    if file_exists==False:\n",
    "        #print a message indicating the file is being created\n",
    "        print(f\"Creating {JSON_FILE} for API results for {YEAR}.\")\n",
    "        #save an empty dict with just \"imdb_id\" to the new json file\n",
    "        with open(JSON_FILE,'w') as f:\n",
    "            json.dump([{'imdb_id':0}],f)\n",
    "\n",
    "        #Saving new year as the current df\n",
    "        df=basics.loc[basics[\"startYear\"]==YEAR].copy()\n",
    "        #saving movie ids to separate variable\n",
    "        movie_ids=df[\"tconst\"]\n",
    "        \n",
    "        #load existing data from json into a dataframe alled \"previous_df\"\n",
    "        previous_df=pd.read_json(JSON_FILE)\n",
    "        \n",
    "        previous_df\n",
    "\n",
    "        #filter out any ids that are already in the JSON_FILE\n",
    "        movie_ids_to_get=movie_ids[~movie_ids.isin(previous_df['imdb_id'])]\n",
    "\n",
    "        #Loop through movie_ids_to_get with a tqdm progress bar\n",
    "        for movie_id in tqdm_notebook(movie_id_to_get, f\"Movies from {YEAR}\"):\n",
    "        \n",
    "            #get index and movie id from list\n",
    "            try:\n",
    "                #Retrieve then data for the movie id\n",
    "                temp=get_movie_with_rating(movie_id)\n",
    "                #append/extend results to existing fil using a pre_made function\n",
    "                write_json(temp,JSON_FILE)\n",
    "                #short 20 ms sleep to prevent overwhelming server\n",
    "                time.sleep(.02)\n",
    "        \n",
    "            except Exception as e:\n",
    "                errors.append([movie_ids,e])\n",
    "\n",
    "                print(f'- Total errors: {len(errors)}')\n",
    "        \n",
    "        final_year_df=pd.read_json(JSON_FILE)\n",
    "        final_year_df.to_csv(f\"{FOLDER}final_tmdb_data_{YEAR}.csv.gz\", compression=\"gzip\",index=False)"
   ]
  },
  {
   "cell_type": "code",
   "execution_count": null,
   "id": "bff4e985-4fb5-4961-9587-e548094415c7",
   "metadata": {},
   "outputs": [],
   "source": []
  },
  {
   "cell_type": "code",
   "execution_count": null,
   "id": "4ac80824-c38f-49c1-b34b-2b31557c060a",
   "metadata": {},
   "outputs": [],
   "source": []
  },
  {
   "cell_type": "code",
   "execution_count": null,
   "id": "3f519ed6-6131-4ccc-add6-a669633d7a15",
   "metadata": {},
   "outputs": [],
   "source": []
  }
 ],
 "metadata": {
  "kernelspec": {
   "display_name": "Python (dojo-env)",
   "language": "python",
   "name": "dojo-env"
  },
  "language_info": {
   "codemirror_mode": {
    "name": "ipython",
    "version": 3
   },
   "file_extension": ".py",
   "mimetype": "text/x-python",
   "name": "python",
   "nbconvert_exporter": "python",
   "pygments_lexer": "ipython3",
   "version": "3.10.10"
  },
  "widgets": {
   "application/vnd.jupyter.widget-state+json": {
    "state": {
     "0004a1f4e88047429f4bbb3ccbe0ff12": {
      "model_module": "@jupyter-widgets/controls",
      "model_module_version": "2.0.0",
      "model_name": "HBoxModel",
      "state": {
       "children": [
        "IPY_MODEL_61de8776b9c74345a3cd13cf22060ebd",
        "IPY_MODEL_8da74f941a78413fba5cfc27ec3d5140",
        "IPY_MODEL_87aea42be59d41659c8a362c9178d1db"
       ],
       "layout": "IPY_MODEL_6151d554ba1746798270dc13d6f68804"
      }
     },
     "1143a10916ff47919063cf876602542e": {
      "model_module": "@jupyter-widgets/controls",
      "model_module_version": "2.0.0",
      "model_name": "HTMLModel",
      "state": {
       "layout": "IPY_MODEL_97da3782c7464cfa942fb953b3ad6271",
       "style": "IPY_MODEL_f25a3652efcc4142a464365edef415a3",
       "value": "YEARS: 100%"
      }
     },
     "12e3bb2607314030b519008bf8df9cc2": {
      "model_module": "@jupyter-widgets/controls",
      "model_module_version": "2.0.0",
      "model_name": "HTMLStyleModel",
      "state": {
       "description_width": "",
       "font_size": null,
       "text_color": null
      }
     },
     "2985ae7836934b348c040f7228582c90": {
      "model_module": "@jupyter-widgets/controls",
      "model_module_version": "2.0.0",
      "model_name": "ProgressStyleModel",
      "state": {
       "description_width": ""
      }
     },
     "4a6d22f3f43842c38a38ef893cbc1240": {
      "model_module": "@jupyter-widgets/base",
      "model_module_version": "2.0.0",
      "model_name": "LayoutModel",
      "state": {}
     },
     "55c5bae65d9c45369758c7e181fbe4dc": {
      "model_module": "@jupyter-widgets/controls",
      "model_module_version": "2.0.0",
      "model_name": "HTMLModel",
      "state": {
       "layout": "IPY_MODEL_9178adea3f564d05b4b879d8ca3340b7",
       "style": "IPY_MODEL_b86593bc18ab4b648bb6b9154e392057",
       "value": " 2/2 [00:00&lt;00:00, 119.21it/s]"
      }
     },
     "586f935aca53494b93efcf5395143348": {
      "model_module": "@jupyter-widgets/base",
      "model_module_version": "2.0.0",
      "model_name": "LayoutModel",
      "state": {}
     },
     "6151d554ba1746798270dc13d6f68804": {
      "model_module": "@jupyter-widgets/base",
      "model_module_version": "2.0.0",
      "model_name": "LayoutModel",
      "state": {}
     },
     "61de8776b9c74345a3cd13cf22060ebd": {
      "model_module": "@jupyter-widgets/controls",
      "model_module_version": "2.0.0",
      "model_name": "HTMLModel",
      "state": {
       "layout": "IPY_MODEL_b3d37e7a6e4e4703abb9a1b627c86127",
       "style": "IPY_MODEL_a69f9c34ccd2483ab105d9bdab08522d",
       "value": "YEARS:  50%"
      }
     },
     "7d2d06c44905485ba0c54642fb6a86f1": {
      "model_module": "@jupyter-widgets/controls",
      "model_module_version": "2.0.0",
      "model_name": "ProgressStyleModel",
      "state": {
       "description_width": ""
      }
     },
     "87aea42be59d41659c8a362c9178d1db": {
      "model_module": "@jupyter-widgets/controls",
      "model_module_version": "2.0.0",
      "model_name": "HTMLModel",
      "state": {
       "layout": "IPY_MODEL_8ebc5b9962a54368a1ace330445030f1",
       "style": "IPY_MODEL_12e3bb2607314030b519008bf8df9cc2",
       "value": " 1/2 [00:00&lt;00:00, 33.32it/s]"
      }
     },
     "8da74f941a78413fba5cfc27ec3d5140": {
      "model_module": "@jupyter-widgets/controls",
      "model_module_version": "2.0.0",
      "model_name": "FloatProgressModel",
      "state": {
       "bar_style": "danger",
       "layout": "IPY_MODEL_586f935aca53494b93efcf5395143348",
       "max": 2,
       "style": "IPY_MODEL_2985ae7836934b348c040f7228582c90",
       "value": 1
      }
     },
     "8ebc5b9962a54368a1ace330445030f1": {
      "model_module": "@jupyter-widgets/base",
      "model_module_version": "2.0.0",
      "model_name": "LayoutModel",
      "state": {}
     },
     "9178adea3f564d05b4b879d8ca3340b7": {
      "model_module": "@jupyter-widgets/base",
      "model_module_version": "2.0.0",
      "model_name": "LayoutModel",
      "state": {}
     },
     "94980a96016948b2b43297a6e7ec074c": {
      "model_module": "@jupyter-widgets/base",
      "model_module_version": "2.0.0",
      "model_name": "LayoutModel",
      "state": {}
     },
     "97da3782c7464cfa942fb953b3ad6271": {
      "model_module": "@jupyter-widgets/base",
      "model_module_version": "2.0.0",
      "model_name": "LayoutModel",
      "state": {}
     },
     "a2a68bb2495f44569980598ac1f9a75c": {
      "model_module": "@jupyter-widgets/controls",
      "model_module_version": "2.0.0",
      "model_name": "HBoxModel",
      "state": {
       "children": [
        "IPY_MODEL_1143a10916ff47919063cf876602542e",
        "IPY_MODEL_abd09b6b92a24a5294a60575c8720a7f",
        "IPY_MODEL_55c5bae65d9c45369758c7e181fbe4dc"
       ],
       "layout": "IPY_MODEL_4a6d22f3f43842c38a38ef893cbc1240"
      }
     },
     "a69f9c34ccd2483ab105d9bdab08522d": {
      "model_module": "@jupyter-widgets/controls",
      "model_module_version": "2.0.0",
      "model_name": "HTMLStyleModel",
      "state": {
       "description_width": "",
       "font_size": null,
       "text_color": null
      }
     },
     "abd09b6b92a24a5294a60575c8720a7f": {
      "model_module": "@jupyter-widgets/controls",
      "model_module_version": "2.0.0",
      "model_name": "FloatProgressModel",
      "state": {
       "bar_style": "success",
       "layout": "IPY_MODEL_94980a96016948b2b43297a6e7ec074c",
       "max": 2,
       "style": "IPY_MODEL_7d2d06c44905485ba0c54642fb6a86f1",
       "value": 2
      }
     },
     "b3d37e7a6e4e4703abb9a1b627c86127": {
      "model_module": "@jupyter-widgets/base",
      "model_module_version": "2.0.0",
      "model_name": "LayoutModel",
      "state": {}
     },
     "b86593bc18ab4b648bb6b9154e392057": {
      "model_module": "@jupyter-widgets/controls",
      "model_module_version": "2.0.0",
      "model_name": "HTMLStyleModel",
      "state": {
       "description_width": "",
       "font_size": null,
       "text_color": null
      }
     },
     "f25a3652efcc4142a464365edef415a3": {
      "model_module": "@jupyter-widgets/controls",
      "model_module_version": "2.0.0",
      "model_name": "HTMLStyleModel",
      "state": {
       "description_width": "",
       "font_size": null,
       "text_color": null
      }
     }
    },
    "version_major": 2,
    "version_minor": 0
   }
  }
 },
 "nbformat": 4,
 "nbformat_minor": 5
}
